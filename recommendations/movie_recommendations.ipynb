{
 "cells": [
  {
   "cell_type": "code",
   "execution_count": null,
   "metadata": {
    "collapsed": true
   },
   "outputs": [],
   "source": [
    "import numpy as np\n",
    "import pandas as pd"
   ]
  },
  {
   "cell_type": "markdown",
   "source": [
    "Suppose we want to construct a movie recommendation system. Suppose I like watching Planet Earth, what\n",
    "other documentaries/movies could I like? Naturally you might think I am interested in seeing Blue Planet. What\n",
    "do these two documentaries have in common? Obviously they are both nature documentaries, and also they both\n",
    "involve David Attenborough. In other words, both documentaries **share some latent factors**.\n"
   ],
   "metadata": {
    "collapsed": false
   }
  },
  {
   "cell_type": "markdown",
   "source": [
    "Suppose we have a matrix where each row denotes a user and each column a movie. The values in the matrix are\n",
    "ratings, i.e. entry $A_{ij}$ tells us the rating user $i$ gave to movie $j$.\n",
    "Let $A \\in \\mathbb{R}^{n \\times m}$, meaning\n",
    "we have $n$ users and $m$ movies.\n",
    "\n",
    "We will use Singular Value Decomposition to factor this matrix $A$ into a set of three matrices:\n",
    "\n",
    "$A = U D V^\\top$\n",
    "\n",
    "SVD decomposes a matrix into its singular vectors and singular values. It is useful to find certain properties of the\n",
    "matrix. It is basically a generalization of the eigendecomposition of a matrix (which can only be applied\n",
    " to certain square matrices). The matrix $D \\in \\mathbb{R}^{n \\times m}$ is diagonal and contains the singular values of $A$,\n",
    "$U \\in \\mathbb{R}^{n \\times n}$ is an orthogonal matrix containing the left singular vectors of $A$, and\n",
    "$V \\in \\mathbb{R}^{m \\times m}$ is an orthogonal matrix containing the right singular vectors of $A$\n",
    "\n",
    "What does this all mean? One way of interpreting these matrices is to consider that multiplying a vector by $A$ is\n",
    "just applying a linear transformation to that vector. After the multiplication the vector will generally be rotated\n",
    "as well as scaled. We can decompose this entire transformation into three transformation: 1) a pure rotation, 2) a pure\n",
    "scaling, and 3) another pure rotation. Rotations are defined by (special) orthogonal matrices, like $U$ and $V$. The\n",
    "scaling is done by multiplying by the diagonal matrix $D$. SVD is often used for dimensionality reduction (in which\n",
    "case it is referred to as truncated SVD), which is what we'll do here!\n",
    "\n",
    "## SVD for recommender systems\n",
    "SVD is used to discover latent features. The matrix $U \\in \\mathbb{R}^{n \\times n}$ will tell us how much each user\n",
    "(row) feels about each latent factors (columns) (where these latent factors 'hidden' in our movies could be things like\n",
    "'action', 'nature', 'david attenborough', 'tragic').\n",
    "The $V^\\top$ matrix tells us how much each latent factor (row) features in each movie (column).\n",
    "\n",
    "\n",
    "Our goal is to only describe each movie by some (small ish) number of latent factors. This means only keeping the\n",
    "first $k$ columns in $U$ (meaning we have a truncated $U$ matrix $U_{trunc} \\in \\mathbb{R}^{n \\times k}$). Similarly\n",
    "we have $V^\\top_{trunc} \\in \\mathbb{R}^{k \\times m}$ and $D_{trunc} \\in \\mathbb{R}^{k \\times k}$. Basically, what we do is we\n",
    "keep only the largest $k$ singular values (which are the first $k$ rows/columns in $D$ because the singular values by definition\n",
    "are ordered from high to low). The singular values themselves tell us how important the corresponding latent factor is in being able to reproduce the ratings of the original matrix $A$. Note that this is very similar to PCA\n",
    "where we can perform dimensionality reduction to only keep the first few principal components (while minimizing reconstruction\n",
    "loss)."
   ],
   "metadata": {
    "collapsed": false,
    "pycharm": {
     "name": "#%% md\n"
    }
   }
  },
  {
   "cell_type": "code",
   "execution_count": null,
   "outputs": [],
   "source": [],
   "metadata": {
    "collapsed": false,
    "pycharm": {
     "name": "#%%\n"
    }
   }
  }
 ],
 "metadata": {
  "kernelspec": {
   "display_name": "Python 3",
   "language": "python",
   "name": "python3"
  },
  "language_info": {
   "codemirror_mode": {
    "name": "ipython",
    "version": 2
   },
   "file_extension": ".py",
   "mimetype": "text/x-python",
   "name": "python",
   "nbconvert_exporter": "python",
   "pygments_lexer": "ipython2",
   "version": "2.7.6"
  }
 },
 "nbformat": 4,
 "nbformat_minor": 0
}