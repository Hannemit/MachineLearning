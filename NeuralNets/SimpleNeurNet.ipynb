{
 "cells": [
  {
   "cell_type": "code",
   "execution_count": 1,
   "metadata": {
    "collapsed": false
   },
   "outputs": [],
   "source": [
    "import numpy as np \n",
    "import matplotlib.pyplot as plt\n",
    "import scipy.io\n",
    "from utils_nn import *\n",
    "from sklearn.model_selection import train_test_split\n",
    "\n",
    "%matplotlib inline"
   ]
  },
  {
   "cell_type": "code",
   "execution_count": 2,
   "metadata": {
    "collapsed": true
   },
   "outputs": [],
   "source": [
    "in_sz  = 400 #size input layer, 20x20 images\n",
    "hid_sz = 4 #size hidden layer\n",
    "out_sz = 10 #number of classes, digits 0 to 9\n",
    "lamb = 1.0 #regularization \n",
    "\n",
    "layers_sz = [in_sz, hid_sz, out_sz]"
   ]
  },
  {
   "cell_type": "markdown",
   "metadata": {},
   "source": [
    "## Load data"
   ]
  },
  {
   "cell_type": "code",
   "execution_count": 3,
   "metadata": {
    "collapsed": false
   },
   "outputs": [],
   "source": [
    "mat = scipy.io.loadmat('../Data/DigitData.mat')\n",
    "X = mat['X']\n",
    "y = mat['y']; \n",
    "y[y == 10] = 0 #in dataset the digits '0' are labelled as '10', just make them '0' here. \n",
    "\n",
    "X_train, X_test, y_train, y_test = train_test_split(X, y, test_size=0.2, random_state=42)\n",
    "\n",
    "m, n = X_train.shape\n",
    "\n",
    "X = X_train\n",
    "y = y_train"
   ]
  },
  {
   "cell_type": "code",
   "execution_count": 4,
   "metadata": {
    "collapsed": false
   },
   "outputs": [],
   "source": [
    "y = y.reshape(len(y))\n",
    "y_test = y_test.reshape(len(y_test))"
   ]
  },
  {
   "cell_type": "markdown",
   "metadata": {},
   "source": [
    "## Initialise weights"
   ]
  },
  {
   "cell_type": "code",
   "execution_count": 5,
   "metadata": {
    "collapsed": false
   },
   "outputs": [],
   "source": [
    "eps_init = 0.1\n",
    "\n",
    "initial_Theta1 = InitialiseWeights(in_sz, hid_sz, eps_init);\n",
    "initial_Theta2 = InitialiseWeights(hid_sz, out_sz, eps_init);\n",
    "\n",
    "#Unroll parameters from matrices into long vector\n",
    "nn_params_init = Unroll(initial_Theta1, initial_Theta2)"
   ]
  },
  {
   "cell_type": "markdown",
   "metadata": {},
   "source": [
    "## Train Network"
   ]
  },
  {
   "cell_type": "code",
   "execution_count": 6,
   "metadata": {
    "collapsed": false
   },
   "outputs": [],
   "source": [
    "res = scipy.optimize.minimize(nnCostGrad, nn_params_init, args = (layers_sz, X, y, lamb), method= 'Newton-CG', \n",
    "                              tol = 1e-4, jac=True,options={'maxiter': 250})\n",
    "\n",
    "nn_pars = res.x\n",
    "Theta1, Theta2 = Roll(nn_pars, layers_sz)"
   ]
  },
  {
   "cell_type": "code",
   "execution_count": 7,
   "metadata": {
    "collapsed": false
   },
   "outputs": [
    {
     "data": {
      "text/plain": [
       "True"
      ]
     },
     "execution_count": 7,
     "metadata": {},
     "output_type": "execute_result"
    }
   ],
   "source": [
    "res.success"
   ]
  },
  {
   "cell_type": "markdown",
   "metadata": {},
   "source": [
    "## Accuracies"
   ]
  },
  {
   "cell_type": "code",
   "execution_count": 8,
   "metadata": {
    "collapsed": false
   },
   "outputs": [],
   "source": [
    "#training and test predictions.\n",
    "yhat, probs = predict(Theta1, Theta2, X)\n",
    "yhat_test, probs_test = predict(Theta1, Theta2, X_test)"
   ]
  },
  {
   "cell_type": "code",
   "execution_count": 9,
   "metadata": {
    "collapsed": false
   },
   "outputs": [],
   "source": [
    "#accuracies\n",
    "acc = np.sum(y==yhat)/float(len(yhat))\n",
    "acc_test = np.sum(y_test==yhat_test)/float(len(yhat_test))"
   ]
  },
  {
   "cell_type": "code",
   "execution_count": 10,
   "metadata": {
    "collapsed": false
   },
   "outputs": [
    {
     "name": "stdout",
     "output_type": "stream",
     "text": [
      "training accuracy 0.898\n",
      "test accuracy 0.849\n"
     ]
    }
   ],
   "source": [
    "print('training accuracy %.3f\\ntest accuracy %.3f' % (acc, acc_test))"
   ]
  },
  {
   "cell_type": "markdown",
   "metadata": {},
   "source": [
    "# Look at some images"
   ]
  },
  {
   "cell_type": "markdown",
   "metadata": {},
   "source": [
    "Here we'll plot some images that were correctly or not correctly classified. In title we provide the predicted class as well as the probability of the image belonging to that predicted class (i.e. how certain was the network about the prediction). "
   ]
  },
  {
   "cell_type": "code",
   "execution_count": 11,
   "metadata": {
    "collapsed": false
   },
   "outputs": [],
   "source": [
    "def PlotExamples(samples, labels, probs):\n",
    "    '''\n",
    "    samples: mx400 matrix, each rows represents pixels of 20x20 image\n",
    "    labels: the predicted labels for each of the images provided in samples (use for title)\n",
    "    probs: probabilities of predicted labels\n",
    "    '''\n",
    "    rows = 2; cols = int(len(samples)/2.0)\n",
    "    fig, axs = plt.subplots(rows,cols, figsize = (5, 5)); axs = axs.ravel()\n",
    "    \n",
    "    for i in range(len(samples)):\n",
    "        axs[i].imshow((np.array(samples[i]).reshape(20,20)).T)\n",
    "        #axs[i].set_title('Predicted %d, prob %.2f' % (labels[i], probs[i]))   \n",
    "        axs[i].set_title('Predicted %d' % (labels[i]))                  "
   ]
  },
  {
   "cell_type": "markdown",
   "metadata": {},
   "source": [
    "### Correct images"
   ]
  },
  {
   "cell_type": "code",
   "execution_count": 12,
   "metadata": {
    "collapsed": false
   },
   "outputs": [
    {
     "data": {
      "image/png": "[encoded data removed]",
      "text/plain": [
       "<matplotlib.figure.Figure at 0x7f272425a190>"
      ]
     },
     "metadata": {},
     "output_type": "display_data"
    }
   ],
   "source": [
    "#find some correct images\n",
    "idx = np.where(y_test == yhat_test)[0][:6]\n",
    "samples = X_test[idx,:]\n",
    "\n",
    "PlotExamples(samples, yhat_test[idx], probs_test[idx])"
   ]
  },
  {
   "cell_type": "markdown",
   "metadata": {},
   "source": [
    "### Incorrect images"
   ]
  },
  {
   "cell_type": "code",
   "execution_count": 13,
   "metadata": {
    "collapsed": false,
    "scrolled": true
   },
   "outputs": [
    {
     "data": {
      "image/png": "[encoded data removed]",
      "text/plain": [
       "<matplotlib.figure.Figure at 0x7f271ac3fb10>"
      ]
     },
     "metadata": {},
     "output_type": "display_data"
    }
   ],
   "source": [
    "#find some incorrect images\n",
    "idx = np.where(y_test != yhat_test)[0][:6]\n",
    "samples = X_test[idx,:] \n",
    "\n",
    "PlotExamples(samples,yhat_test[idx], probs_test[idx])    "
   ]
  },
  {
   "cell_type": "markdown",
   "metadata": {},
   "source": [
    "### Most uncertain images"
   ]
  },
  {
   "cell_type": "markdown",
   "metadata": {},
   "source": [
    "It looks like the network has some difficulty distinguishing 9's from 4's"
   ]
  },
  {
   "cell_type": "code",
   "execution_count": 14,
   "metadata": {
    "collapsed": false
   },
   "outputs": [
    {
     "data": {
      "image/png": "[encoded data removed]",
      "text/plain": [
       "<matplotlib.figure.Figure at 0x7f2718f652d0>"
      ]
     },
     "metadata": {},
     "output_type": "display_data"
    }
   ],
   "source": [
    "idx = np.argsort(probs_test)[:6]\n",
    "samples = X_test[idx,:] \n",
    "\n",
    "PlotExamples(samples,yhat_test[idx], probs_test[idx])  "
   ]
  },
  {
   "cell_type": "markdown",
   "metadata": {},
   "source": [
    "### Most certain images"
   ]
  },
  {
   "cell_type": "markdown",
   "metadata": {},
   "source": [
    "Look at some of the images we're most certain about. Looks like we are pretty certain about our sixes. Some of the incorrect images are also sixes but in those the upper part of the six is more bent, in which case the network thinks it's an 8 or a 0."
   ]
  },
  {
   "cell_type": "code",
   "execution_count": 15,
   "metadata": {
    "collapsed": false
   },
   "outputs": [
    {
     "data": {
      "image/png": "[encoded data removed]",
      "text/plain": [
       "<matplotlib.figure.Figure at 0x7f2718b3ecd0>"
      ]
     },
     "metadata": {},
     "output_type": "display_data"
    }
   ],
   "source": [
    "idx = np.argsort(probs_test)[-6:]\n",
    "samples = X_test[idx,:] \n",
    "\n",
    "PlotExamples(samples,yhat_test[idx], probs_test[idx])  "
   ]
  }
 ],
 "metadata": {
  "kernelspec": {
   "display_name": "Python 2",
   "language": "python",
   "name": "python2"
  },
  "language_info": {
   "codemirror_mode": {
    "name": "ipython",
    "version": 2
   },
   "file_extension": ".py",
   "mimetype": "text/x-python",
   "name": "python",
   "nbconvert_exporter": "python",
   "pygments_lexer": "ipython2",
   "version": "2.7.13"
  }
 },
 "nbformat": 4,
 "nbformat_minor": 2
}
